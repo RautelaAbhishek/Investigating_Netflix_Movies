{
 "cells": [
  {
   "cell_type": "markdown",
   "id": "937acf3c-c077-4ca6-8d90-8f6dd4d13c54",
   "metadata": {},
   "source": [
    "<center><img src=\"redpopcorn.jpg\"></center>"
   ]
  },
  {
   "cell_type": "markdown",
   "id": "5962b2cd-17bb-4ec9-b2d5-68537ca26860",
   "metadata": {},
   "source": [
    "**Netflix**! What started in 1997 as a DVD rental service has since exploded into one of the largest entertainment and media companies.\n",
    "\n",
    "Given the large number of movies and series available on the platform, it is a perfect opportunity to flex your exploratory data analysis skills and dive into the entertainment industry.\n",
    "\n",
    "You work for a production company that specializes in nostalgic styles. You want to do some research on movies released in the 1990's. You'll delve into Netflix data and perform exploratory data analysis to better understand this awesome movie decade!\n",
    "\n",
    "You have been supplied with the dataset `netflix_data.csv`, along with the following table detailing the column names and descriptions. Feel free to experiment further after submitting!\n",
    "\n",
    "## The data\n",
    "### **netflix_data.csv**\n",
    "| Column | Description |\n",
    "|--------|-------------|\n",
    "| `show_id` | The ID of the show |\n",
    "| `type` | Type of show |\n",
    "| `title` | Title of the show |\n",
    "| `director` | Director of the show |\n",
    "| `cast` | Cast of the show |\n",
    "| `country` | Country of origin |\n",
    "| `date_added` | Date added to Netflix |\n",
    "| `release_year` | Year of Netflix release |\n",
    "| `duration` | Duration of the show in minutes |\n",
    "| `description` | Description of the show |\n",
    "| `genre` | Show genre |"
   ]
  },
  {
   "cell_type": "code",
   "execution_count": 3,
   "id": "320a3abc-8a36-4b2b-baaf-473325363a4d",
   "metadata": {
    "executionCancelledAt": null,
    "executionTime": 51,
    "lastExecutedAt": 1734762777599,
    "lastExecutedByKernel": "c6f06f17-4fec-470d-9c6b-ecc3676655a6",
    "lastScheduledRunId": null,
    "lastSuccessfullyExecutedCode": "# Imports\nimport pandas as pd\nimport matplotlib.pyplot as plt"
   },
   "outputs": [],
   "source": [
    "# Imports\n",
    "import pandas as pd\n",
    "import matplotlib.pyplot as plt"
   ]
  },
  {
   "cell_type": "code",
   "execution_count": 4,
   "id": "72658473-114f-49eb-bd4e-cc03c710834a",
   "metadata": {
    "executionCancelledAt": null,
    "executionTime": 51,
    "lastExecutedAt": 1734762777650,
    "lastExecutedByKernel": "c6f06f17-4fec-470d-9c6b-ecc3676655a6",
    "lastScheduledRunId": null,
    "lastSuccessfullyExecutedCode": "# Read in the Netflix CSV as a DataFrame\nnetflix_df = pd.read_csv(\"netflix_data.csv\")"
   },
   "outputs": [],
   "source": [
    "# Read in the Netflix CSV as a DataFrame\n",
    "netflix_df = pd.read_csv(\"netflix_data.csv\")"
   ]
  },
  {
   "cell_type": "markdown",
   "id": "659851ea-341a-44fc-9cd1-e93f3284ca03",
   "metadata": {},
   "source": [
    "# What was the most frequent movie duration in the 1990s? \n",
    "Duration converted to nearest integer "
   ]
  },
  {
   "cell_type": "code",
   "execution_count": 7,
   "id": "6870e9a3-a692-417f-8819-0e7c6111bee2",
   "metadata": {
    "executionCancelledAt": null,
    "executionTime": 52,
    "lastExecutedAt": 1734762777702,
    "lastExecutedByKernel": "c6f06f17-4fec-470d-9c6b-ecc3676655a6",
    "lastScheduledRunId": null,
    "lastSuccessfullyExecutedCode": "release = netflix_df['release_year']\nmovies_in_1990s = netflix_df[(release >= 1990) & (release <= 1999)]\n# Gets the most frequent duration between 1990 - 1999 and makes a dataframe \n# most_freq_duration\n# id => duration\n# column => count\nduration = movies_in_1990s['duration'].value_counts().idxmax()",
    "outputsMetadata": {
     "0": {
      "height": 311,
      "type": "stream"
     }
    }
   },
   "outputs": [
    {
     "name": "stdout",
     "output_type": "stream",
     "text": [
      "94\n"
     ]
    }
   ],
   "source": [
    "release = netflix_df['release_year']\n",
    "# get all movies between 1990 and 1999 (inclusive)\n",
    "movies_in_1990s = netflix_df[(release >= 1990) & (release <= 1999)]\n",
    "# Gets the most frequent duration between 1990 - 1999\n",
    "duration = movies_in_1990s['duration'].value_counts().idxmax()\n",
    "# Test\n",
    "print(duration)"
   ]
  },
  {
   "cell_type": "markdown",
   "id": "c5d9b45f-e96e-4e86-b7b7-035f3c1256c7",
   "metadata": {},
   "source": [
    "# Count the number of short action movies released in the 1990s."
   ]
  },
  {
   "cell_type": "code",
   "execution_count": 6,
   "id": "bcbd4dd9-caa4-4256-a33f-f8193099547b",
   "metadata": {
    "executionCancelledAt": null,
    "executionTime": 51,
    "lastExecutedAt": 1734762777753,
    "lastExecutedByKernel": "c6f06f17-4fec-470d-9c6b-ecc3676655a6",
    "lastScheduledRunId": null,
    "lastSuccessfullyExecutedCode": "# get all action movies\naction_movies = movies_in_1990s[movies_in_1990s['genre'] == 'Action'] \n# get all movies with duration less than 90\nshort = action_movies[action_movies['duration'] < 90]\n# get number of short action movies\nshort_movie_count = len(short)",
    "outputsMetadata": {
     "0": {
      "height": 616,
      "type": "stream"
     }
    }
   },
   "outputs": [
    {
     "name": "stdout",
     "output_type": "stream",
     "text": [
      "7\n"
     ]
    }
   ],
   "source": [
    "# get all action movies\n",
    "action_movies = movies_in_1990s[movies_in_1990s['genre'] == 'Action'] \n",
    "# get all movies with duration less than 90\n",
    "short = action_movies[action_movies['duration'] < 90]\n",
    "# get number of short action movies\n",
    "short_movie_count = len(short)\n",
    "# Test\n",
    "print(short_movie_count)"
   ]
  }
 ],
 "metadata": {
  "colab": {
   "name": "Welcome to DataCamp Workspaces.ipynb",
   "provenance": []
  },
  "editor": "DataLab",
  "kernelspec": {
   "display_name": "base",
   "language": "python",
   "name": "python3"
  },
  "language_info": {
   "codemirror_mode": {
    "name": "ipython",
    "version": 3
   },
   "file_extension": ".py",
   "mimetype": "text/x-python",
   "name": "python",
   "nbconvert_exporter": "python",
   "pygments_lexer": "ipython3",
   "version": "3.12.7"
  }
 },
 "nbformat": 4,
 "nbformat_minor": 5
}
